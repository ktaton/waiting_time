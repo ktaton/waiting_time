{
  "nbformat": 4,
  "nbformat_minor": 0,
  "metadata": {
    "colab": {
      "provenance": []
    },
    "kernelspec": {
      "name": "python3",
      "display_name": "Python 3"
    },
    "language_info": {
      "name": "python"
    }
  },
  "cells": [
    {
      "cell_type": "code",
      "execution_count": null,
      "metadata": {
        "id": "FjAD-jYKQt4C"
      },
      "outputs": [],
      "source": [
        "#scikit-learn modules\n",
        "from sklearn.model_selection import train_test_split\n",
        "from sklearn.preprocessing import StandardScaler\n",
        "from sklearn.metrics import mean_squared_error\n",
        "from sklearn.metrics import mean_absolute_error\n",
        "from sklearn.metrics import r2_score\n",
        "from sklearn.ensemble import RandomForestRegressor\n",
        "from sklearn.ensemble import ExtraTreesRegressor\n",
        "from sklearn.ensemble import GradientBoostingRegressor\n",
        "from sklearn.ensemble import VotingRegressor\n",
        "from sklearn.ensemble import HistGradientBoostingRegressor\n",
        "from sklearn.linear_model import LinearRegression\n",
        "from sklearn.ensemble import HistGradientBoostingRegressor\n",
        "from sklearn.model_selection import cross_val_score,KFold\n",
        "from sklearn.preprocessing import LabelEncoder"
      ]
    },
    {
      "cell_type": "code",
      "source": [
        "import numpy as np\n",
        "import pandas as pd\n",
        "import matplotlib.pyplot as plt"
      ],
      "metadata": {
        "id": "jjNjK0a6REMo"
      },
      "execution_count": null,
      "outputs": []
    },
    {
      "cell_type": "code",
      "source": [
        "# Load the dataset from Excel\n",
        "data = pd.read_csv('services.csv')\n",
        "data.head()"
      ],
      "metadata": {
        "id": "kij8Anc1RGmy"
      },
      "execution_count": null,
      "outputs": []
    },
    {
      "cell_type": "code",
      "source": [
        "# Convert arrival time, waiting time, and service time to minutes\n",
        "data['arrival_time'] = pd.to_datetime(data['arrival_time'], format='%H:%M:%S').dt.hour * 60 + pd.to_datetime(data['arrival_time'], format='%H:%M:%S').dt.minute\n",
        "data['start_time'] = pd.to_datetime(data['start_time'], format='%H:%M:%S').dt.hour * 60 + pd.to_datetime(data['start_time'], format='%H:%M:%S').dt.minute + pd.to_datetime(data['start_time'], format='%H:%M:%S').dt.second/60\n",
        "data['end_time'] = pd.to_datetime(data['end_time'], format='%H:%M:%S').dt.hour * 60 + pd.to_datetime(data['end_time'], format='%H:%M:%S').dt.minute + pd.to_datetime(data['end_time'], format='%H:%M:%S').dt.second/60\n",
        "data['waiting_time'] = pd.to_datetime(data['waiting_time'], format='%H:%M:%S').dt.hour * 60 + pd.to_datetime(data['waiting_time'], format='%H:%M:%S').dt.minute\n",
        "data['date'] = pd.to_datetime(data['date'], format='%d/%m/%Y')\n",
        "data['date'] = data['date'].astype(int)\n",
        "data.drop(columns=['client_id'], inplace=True)\n"
      ],
      "metadata": {
        "id": "p0VmWoL8RJqd"
      },
      "execution_count": null,
      "outputs": []
    },
    {
      "cell_type": "code",
      "source": [
        "encoder = LabelEncoder()\n",
        "data['priority'] = encoder.fit_transform(data['priority'])\n",
        "data['entity'] = encoder.fit_transform(data['entity'])\n",
        "data['service_type'] = encoder.fit_transform(data['service_type'])\n",
        "data['status'] = encoder.fit_transform(data['status'])\n",
        "data.head()"
      ],
      "metadata": {
        "id": "sLQVLFg1R7zS"
      },
      "execution_count": null,
      "outputs": []
    },
    {
      "cell_type": "code",
      "source": [
        "# Define a custom function to calculate queue length\n",
        "def calculate_queue_length(row, data):\n",
        "    return data[(data['date'] == row['date']) &\n",
        "        (data['queue_id'] == row['queue_id']) &\n",
        "        (data['branch_id'] == row['branch_id']) &\n",
        "        (data['arrival_time'] < row['start_time'])]['arrival_time'].count()\n",
        "\n",
        "# Apply the custom function to each row\n",
        "data['queue_length'] = data.apply(calculate_queue_length, axis=1, data=data)\n",
        "data.head()"
      ],
      "metadata": {
        "id": "Uan92kfVR9v_"
      },
      "execution_count": null,
      "outputs": []
    },
    {
      "cell_type": "code",
      "source": [
        "#x = data[['branch_id','date','queue_id','sequence','status','entity','priority','arrival_time','cashier','service_type','queue_length']]\n",
        "x = data[['cashier','queue_length','date','arrival_time','queue_id']]\n",
        "y = data['waiting_time']"
      ],
      "metadata": {
        "id": "3P_tLuloSQA0"
      },
      "execution_count": null,
      "outputs": []
    },
    {
      "cell_type": "code",
      "source": [
        "x_train, x_test, y_train, y_test = train_test_split(x, y, test_size = 0.2, random_state=42)"
      ],
      "metadata": {
        "id": "zhW64MFVSRBY"
      },
      "execution_count": null,
      "outputs": []
    },
    {
      "cell_type": "code",
      "source": [
        "#rf_model = RandomForestRegressor(n_estimators = 200, max_depth = 30, min_samples_split = 2, min_samples_leaf = 1)\n",
        "rf_model = RandomForestRegressor(n_estimators = 100)\n",
        "rf_model.fit(x_train, y_train)\n",
        "y_pred = rf_model.predict(x_test)"
      ],
      "metadata": {
        "id": "cXP0FZnlSeKF"
      },
      "execution_count": null,
      "outputs": []
    },
    {
      "cell_type": "code",
      "source": [
        "# Metrics\n",
        "print(\"MAE\",mean_absolute_error(y_test,y_pred))\n",
        "print(\"MSE\",mean_squared_error(y_test,y_pred))\n",
        "print(\"RMSE\",(np.sqrt(mean_squared_error(y_test,y_pred))))\n",
        "print(\"r2\", r2_score(y_test, y_pred))"
      ],
      "metadata": {
        "id": "squKo1PUShBD"
      },
      "execution_count": null,
      "outputs": []
    },
    {
      "cell_type": "code",
      "source": [
        "# Plot the actual vs predicted waiting time\n",
        "plt.figure(figsize=(10, 6))\n",
        "plt.plot(range(len(y_test[1:100])), y_test[1:100], color='r', label='Actual')\n",
        "plt.plot(range(len(y_test[1:100])), y_pred[1:100], color='b', label='Predicted')\n",
        "plt.xlabel('Sample')\n",
        "plt.ylabel('Waiting Time (minutes)')\n",
        "plt.title('Actual vs Predicted Waiting Time')\n",
        "plt.legend()\n",
        "plt.show()"
      ],
      "metadata": {
        "id": "eT4yrqb6SjRY"
      },
      "execution_count": null,
      "outputs": []
    },
    {
      "cell_type": "code",
      "source": [
        "# Define the number of folds (adjust as needed)\n",
        "n_folds = 5\n",
        "\n",
        "# Create KFold object\n",
        "kf = KFold(n_splits=n_folds, shuffle=True, random_state=42)\n",
        "\n",
        "# Initialize a list to store r2 score for each fold\n",
        "r2_per_fold = []\n",
        "\n",
        "# Perform K-Fold Cross-Validation\n",
        "for train_index, test_index in kf.split(x):\n",
        "    X_train, X_test = x.iloc[train_index], x.iloc[test_index]\n",
        "    y_train, y_test = y.iloc[train_index], y.iloc[test_index]\n",
        "\n",
        "    # Train the model on the training set\n",
        "    rf_model.fit(X_train, y_train)\n",
        "\n",
        "    # Make predictions on the test set\n",
        "    y_pred = rf_model.predict(X_test)\n",
        "\n",
        "    # Calculate r2 score for the fold\n",
        "    r2_fold = r2_score(y_test, y_pred)\n",
        "    r2_per_fold.append(r2_fold)\n",
        "\n",
        "# Display r2 score for each fold\n",
        "print(\"r2 score for Each Fold:\")\n",
        "for i, r2_fold in enumerate(r2_per_fold, start=1):\n",
        "    print(f\"Fold {i}: {r2_fold}\")\n",
        "\n",
        "# Calculate and print the average r2 score\n",
        "average_r2 = sum(r2_per_fold) / n_folds\n",
        "print(f\"\\nAverage r2 score Error: {average_r2}\")"
      ],
      "metadata": {
        "id": "EzLsph5NSnIf"
      },
      "execution_count": null,
      "outputs": []
    },
    {
      "cell_type": "code",
      "source": [
        "et_model = ExtraTreesRegressor(n_estimators = 100)\n",
        "et_model.fit(x_train, y_train)\n",
        "y_pred = et_model.predict(x_test)"
      ],
      "metadata": {
        "id": "y9e25V3-UAfb"
      },
      "execution_count": null,
      "outputs": []
    },
    {
      "cell_type": "code",
      "source": [
        "# Metrics\n",
        "print(\"MAE\",mean_absolute_error(y_test,y_pred))\n",
        "print(\"MSE\",mean_squared_error(y_test,y_pred))\n",
        "print(\"RMSE\",(np.sqrt(mean_squared_error(y_test,y_pred))))\n",
        "print(\"r2\", r2_score(y_test, y_pred))"
      ],
      "metadata": {
        "id": "A43l-ETVUDIJ"
      },
      "execution_count": null,
      "outputs": []
    },
    {
      "cell_type": "code",
      "source": [
        "# Plot the actual vs predicted waiting time\n",
        "plt.figure(figsize=(10, 6))\n",
        "plt.plot(range(len(y_test[1:100])), y_test[1:100], color='r', label='Actual')\n",
        "plt.plot(range(len(y_test[1:100])), y_pred[1:100], color='b', label='Predicted')\n",
        "plt.xlabel('Sample')\n",
        "plt.ylabel('Waiting Time (minutes)')\n",
        "plt.title('Actual vs Predicted Waiting Time')\n",
        "plt.legend()\n",
        "plt.show()"
      ],
      "metadata": {
        "id": "NFLoOs1_UXFA"
      },
      "execution_count": null,
      "outputs": []
    }
  ]
}